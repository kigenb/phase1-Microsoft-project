{
 "cells": [
  {
   "cell_type": "markdown",
   "metadata": {},
   "source": [
    "# MAKING MOVIES AT MICROSOFT"
   ]
  },
  {
   "cell_type": "markdown",
   "metadata": {},
   "source": [
    "Project Overview"
   ]
  },
  {
   "cell_type": "markdown",
   "metadata": {},
   "source": [
    "Microsoft have decided to create a new movies studio and they have no idea anything about creating movies.The task is to collect,clean and movie data from different sources such as Box offices,IMDB so that we can provide recomendation and insight to the Head of Microsoft's new movie studio to set up a succesful and profitable movie studio."
   ]
  },
  {
   "cell_type": "markdown",
   "metadata": {},
   "source": [
    "Data and Exploration."
   ]
  },
  {
   "cell_type": "markdown",
   "metadata": {},
   "source": [
    "The data was provided and I choose two data set from the data provided.I sourced data from internet and retrieved the data through web scrapping. The provided data set can be can be located from zippedData folder. "
   ]
  },
  {
   "cell_type": "markdown",
   "metadata": {},
   "source": [
    "In my research and anlysis I will explore and give answer in the following question:"
   ]
  },
  {
   "cell_type": "markdown",
   "metadata": {},
   "source": [
    "1.What impact of Directors of movies have impact in the production and the sales of movies"
   ]
  },
  {
   "cell_type": "markdown",
   "metadata": {},
   "source": [
    "2.What are the most profitable movies and how much shhould invest in movies."
   ]
  },
  {
   "cell_type": "markdown",
   "metadata": {},
   "source": [
    "3.What are most succesfull studios in thhe movie industry"
   ]
  },
  {
   "cell_type": "markdown",
   "metadata": {},
   "source": [
    "4.which genre is most profitable in the movie industry"
   ]
  },
  {
   "cell_type": "markdown",
   "metadata": {},
   "source": [
    "Load Dataset with pandas"
   ]
  },
  {
   "cell_type": "code",
   "execution_count": 2,
   "metadata": {},
   "outputs": [],
   "source": [
    "import pandas as pd\n",
    "import numpy as np\n",
    "import matplotlib.pyplot as plt\n",
    "%matplotlib inline\n",
    "import seaborn as sns"
   ]
  },
  {
   "cell_type": "markdown",
   "metadata": {},
   "source": [
    "loading various data set"
   ]
  },
  {
   "cell_type": "code",
   "execution_count": 7,
   "metadata": {},
   "outputs": [],
   "source": [
    "movie_dataframe=pd.read_csv(\"rt.movie_info.tsv.gz\",sep='\\t')\n",
    "movie_dataframe = pd.read_csv(\"rt.movie_info.tsv.gz\",sep='\\t')\n",
    "movie_dataframe1 = pd.read_csv('moviedirectors.csv')\n",
    "movie_budget=pd.read_csv(\"tn.movie_budgets (1).csv.gz\")\n",
    "movie_budget1 = pd.read_csv('moviebudget.csv1')\n",
    "movie_l=pd.read_csv('bom.movie_gross (1).csv.gz')\n",
    "movie_merge = pd.read_csv('moviemerge_studio_csv')\n",
    "tittle_basics=pd.read_csv('imdb.title.basics.csv.gz')\n",
    "movie_genre_budget = pd.read_csv('movie_genre_budget.csv')"
   ]
  },
  {
   "cell_type": "code",
   "execution_count": null,
   "metadata": {},
   "outputs": [],
   "source": []
  }
 ],
 "metadata": {
  "kernelspec": {
   "display_name": "Python 3",
   "language": "python",
   "name": "python3"
  },
  "language_info": {
   "codemirror_mode": {
    "name": "ipython",
    "version": 3
   },
   "file_extension": ".py",
   "mimetype": "text/x-python",
   "name": "python",
   "nbconvert_exporter": "python",
   "pygments_lexer": "ipython3",
   "version": "3.8.5"
  }
 },
 "nbformat": 4,
 "nbformat_minor": 4
}
