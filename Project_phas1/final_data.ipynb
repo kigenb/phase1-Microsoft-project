{
 "cells": [
  {
   "cell_type": "markdown",
   "metadata": {},
   "source": [
    "# MAKING MOVIES AT MICROSOFT"
   ]
  },
  {
   "cell_type": "markdown",
   "metadata": {},
   "source": [
    "Project Overview"
   ]
  },
  {
   "cell_type": "markdown",
   "metadata": {},
   "source": [
    "Microsoft have decided to create a new movies studio and they have no idea anything about creating movies.The task is to collect,clean and movie data from different sources such as Box offices,IMDB so that we can provide recomendation and insight to the Head of Microsoft's new movie studio to set up a succesful and profitable movie studio."
   ]
  },
  {
   "cell_type": "markdown",
   "metadata": {},
   "source": [
    "Data and Exploration."
   ]
  },
  {
   "cell_type": "markdown",
   "metadata": {},
   "source": [
    "The data was provided and I choose two data set from the data provided.I sourced data from internet and retrieved the data through web scrapping. The provided data set can be can be located from zippedData folder. "
   ]
  },
  {
   "cell_type": "markdown",
   "metadata": {},
   "source": [
    "In my research and anlysis I will explore and give answer in the following question:"
   ]
  },
  {
   "cell_type": "markdown",
   "metadata": {},
   "source": [
    "1.What impact of Directors of movies have impact in the production and the sales of movies"
   ]
  },
  {
   "cell_type": "markdown",
   "metadata": {},
   "source": [
    "2.What are the most profitable movies and how much shhould invest in movies."
   ]
  },
  {
   "cell_type": "markdown",
   "metadata": {},
   "source": [
    "3.What are most succesfull studios in thhe movie industry"
   ]
  },
  {
   "cell_type": "markdown",
   "metadata": {},
   "source": [
    "4.which genre is most profitable in the movie industry"
   ]
  },
  {
   "cell_type": "markdown",
   "metadata": {},
   "source": [
    "Load Dataset with pandas"
   ]
  },
  {
   "cell_type": "code",
   "execution_count": 1,
   "metadata": {},
   "outputs": [],
   "source": [
    "import pandas as pd\n",
    "import numpy as np\n",
    "import matplotlib.pyplot as plt\n",
    "%matplotlib inline\n",
    "import seaborn as sns"
   ]
  },
  {
   "cell_type": "markdown",
   "metadata": {},
   "source": [
    "loading various data set"
   ]
  },
  {
   "cell_type": "code",
   "execution_count": 2,
   "metadata": {},
   "outputs": [],
   "source": [
    "# we load various data that will be using  to anlyze data.\n",
    "movie_dataframe = pd.read_csv(\"rt.movie_info.tsv.gz\",sep='\\t')\n",
    "movie_dataframe1 = pd.read_csv('moviedirectors.csv')\n",
    "movie_budget=pd.read_csv(\"tn.movie_budgets (1).csv.gz\")\n",
    "movie_budgett = pd.read_csv('moviebudget.csv',index_col=0)\n",
    "movie_budget1 = pd.read_csv('moviebudget.csv1')\n",
    "movie_l=pd.read_csv('bom.movie_gross (1).csv.gz')\n",
    "movie_merge = pd.read_csv('moviemerge_studio_csv')\n",
    "tittle_basics=pd.read_csv('imdb.title.basics.csv.gz')\n",
    "movie_genre_budget = pd.read_csv('movie_genre_budget.csv')\n"
   ]
  },
  {
   "cell_type": "markdown",
   "metadata": {},
   "source": [
    "Question 1: What impact Directors have on the sale of movies interms of Box Office?"
   ]
  },
  {
   "cell_type": "markdown",
   "metadata": {},
   "source": [
    "I will select movie_dataframe1 for anlaysis in the above question.I will look at Directors column and Box Office.Using group by I will group Directors column and Box Office In which I will calculate the avarage sales of movies interms of box office  by director.Then I will select top 30 Directors in terms of sales."
   ]
  },
  {
   "cell_type": "code",
   "execution_count": 3,
   "metadata": {},
   "outputs": [
    {
     "data": {
      "text/html": [
       "<div>\n",
       "<style scoped>\n",
       "    .dataframe tbody tr th:only-of-type {\n",
       "        vertical-align: middle;\n",
       "    }\n",
       "\n",
       "    .dataframe tbody tr th {\n",
       "        vertical-align: top;\n",
       "    }\n",
       "\n",
       "    .dataframe thead th {\n",
       "        text-align: right;\n",
       "    }\n",
       "</style>\n",
       "<table border=\"1\" class=\"dataframe\">\n",
       "  <thead>\n",
       "    <tr style=\"text-align: right;\">\n",
       "      <th></th>\n",
       "      <th>Unnamed: 0</th>\n",
       "      <th>id</th>\n",
       "      <th>synopsis</th>\n",
       "      <th>rating</th>\n",
       "      <th>genre</th>\n",
       "      <th>director</th>\n",
       "      <th>writer</th>\n",
       "      <th>theater_date</th>\n",
       "      <th>dvd_date</th>\n",
       "      <th>currency</th>\n",
       "      <th>box_office</th>\n",
       "      <th>runtime</th>\n",
       "      <th>studio</th>\n",
       "    </tr>\n",
       "  </thead>\n",
       "  <tbody>\n",
       "    <tr>\n",
       "      <th>0</th>\n",
       "      <td>1</td>\n",
       "      <td>3</td>\n",
       "      <td>New York City, not-too-distant-future: Eric Pa...</td>\n",
       "      <td>R</td>\n",
       "      <td>Drama|Science Fiction and Fantasy</td>\n",
       "      <td>David Cronenberg</td>\n",
       "      <td>David Cronenberg|Don DeLillo</td>\n",
       "      <td>Aug 17, 2012</td>\n",
       "      <td>Jan 1, 2013</td>\n",
       "      <td>$</td>\n",
       "      <td>600000</td>\n",
       "      <td>108 minutes</td>\n",
       "      <td>Entertainment One</td>\n",
       "    </tr>\n",
       "    <tr>\n",
       "      <th>1</th>\n",
       "      <td>6</td>\n",
       "      <td>10</td>\n",
       "      <td>Some cast and crew from NBC's highly acclaimed...</td>\n",
       "      <td>PG-13</td>\n",
       "      <td>Comedy</td>\n",
       "      <td>Jake Kasdan</td>\n",
       "      <td>Mike White</td>\n",
       "      <td>Jan 11, 2002</td>\n",
       "      <td>Jun 18, 2002</td>\n",
       "      <td>$</td>\n",
       "      <td>41032915</td>\n",
       "      <td>82 minutes</td>\n",
       "      <td>Paramount Pictures</td>\n",
       "    </tr>\n",
       "    <tr>\n",
       "      <th>2</th>\n",
       "      <td>7</td>\n",
       "      <td>13</td>\n",
       "      <td>Stewart Kane, an Irishman living in the Austra...</td>\n",
       "      <td>R</td>\n",
       "      <td>Drama</td>\n",
       "      <td>Ray Lawrence</td>\n",
       "      <td>Raymond Carver|Beatrix Christian</td>\n",
       "      <td>Apr 27, 2006</td>\n",
       "      <td>Oct 2, 2007</td>\n",
       "      <td>$</td>\n",
       "      <td>224114</td>\n",
       "      <td>123 minutes</td>\n",
       "      <td>Sony Pictures Classics</td>\n",
       "    </tr>\n",
       "    <tr>\n",
       "      <th>3</th>\n",
       "      <td>15</td>\n",
       "      <td>22</td>\n",
       "      <td>Two-time Academy Award Winner Kevin Spacey giv...</td>\n",
       "      <td>R</td>\n",
       "      <td>Comedy|Drama|Mystery and Suspense</td>\n",
       "      <td>George Hickenlooper</td>\n",
       "      <td>Norman Snider</td>\n",
       "      <td>Dec 17, 2010</td>\n",
       "      <td>Apr 5, 2011</td>\n",
       "      <td>$</td>\n",
       "      <td>1039869</td>\n",
       "      <td>108 minutes</td>\n",
       "      <td>ATO Pictures</td>\n",
       "    </tr>\n",
       "    <tr>\n",
       "      <th>4</th>\n",
       "      <td>18</td>\n",
       "      <td>25</td>\n",
       "      <td>From ancient Japan's most enduring tale, the e...</td>\n",
       "      <td>PG-13</td>\n",
       "      <td>Action and Adventure|Drama|Science Fiction and...</td>\n",
       "      <td>Carl Erik Rinsch</td>\n",
       "      <td>Chris Morgan|Hossein Amini</td>\n",
       "      <td>Dec 25, 2013</td>\n",
       "      <td>Apr 1, 2014</td>\n",
       "      <td>$</td>\n",
       "      <td>20518224</td>\n",
       "      <td>127 minutes</td>\n",
       "      <td>Universal Pictures</td>\n",
       "    </tr>\n",
       "  </tbody>\n",
       "</table>\n",
       "</div>"
      ],
      "text/plain": [
       "   Unnamed: 0  id                                           synopsis rating  \\\n",
       "0           1   3  New York City, not-too-distant-future: Eric Pa...      R   \n",
       "1           6  10  Some cast and crew from NBC's highly acclaimed...  PG-13   \n",
       "2           7  13  Stewart Kane, an Irishman living in the Austra...      R   \n",
       "3          15  22  Two-time Academy Award Winner Kevin Spacey giv...      R   \n",
       "4          18  25  From ancient Japan's most enduring tale, the e...  PG-13   \n",
       "\n",
       "                                               genre             director  \\\n",
       "0                  Drama|Science Fiction and Fantasy     David Cronenberg   \n",
       "1                                             Comedy          Jake Kasdan   \n",
       "2                                              Drama         Ray Lawrence   \n",
       "3                  Comedy|Drama|Mystery and Suspense  George Hickenlooper   \n",
       "4  Action and Adventure|Drama|Science Fiction and...     Carl Erik Rinsch   \n",
       "\n",
       "                             writer  theater_date      dvd_date currency  \\\n",
       "0      David Cronenberg|Don DeLillo  Aug 17, 2012   Jan 1, 2013        $   \n",
       "1                        Mike White  Jan 11, 2002  Jun 18, 2002        $   \n",
       "2  Raymond Carver|Beatrix Christian  Apr 27, 2006   Oct 2, 2007        $   \n",
       "3                     Norman Snider  Dec 17, 2010   Apr 5, 2011        $   \n",
       "4        Chris Morgan|Hossein Amini  Dec 25, 2013   Apr 1, 2014        $   \n",
       "\n",
       "   box_office      runtime                  studio  \n",
       "0      600000  108 minutes       Entertainment One  \n",
       "1    41032915   82 minutes      Paramount Pictures  \n",
       "2      224114  123 minutes  Sony Pictures Classics  \n",
       "3     1039869  108 minutes            ATO Pictures  \n",
       "4    20518224  127 minutes      Universal Pictures  "
      ]
     },
     "execution_count": 3,
     "metadata": {},
     "output_type": "execute_result"
    }
   ],
   "source": [
    "# first i will load the movie_dataframe1\n",
    "movie_dataframe1.head()\n"
   ]
  },
  {
   "cell_type": "code",
   "execution_count": 4,
   "metadata": {},
   "outputs": [
    {
     "data": {
      "text/html": [
       "<div>\n",
       "<style scoped>\n",
       "    .dataframe tbody tr th:only-of-type {\n",
       "        vertical-align: middle;\n",
       "    }\n",
       "\n",
       "    .dataframe tbody tr th {\n",
       "        vertical-align: top;\n",
       "    }\n",
       "\n",
       "    .dataframe thead th {\n",
       "        text-align: right;\n",
       "    }\n",
       "</style>\n",
       "<table border=\"1\" class=\"dataframe\">\n",
       "  <thead>\n",
       "    <tr style=\"text-align: right;\">\n",
       "      <th></th>\n",
       "      <th>director</th>\n",
       "      <th>box_office</th>\n",
       "    </tr>\n",
       "  </thead>\n",
       "  <tbody>\n",
       "    <tr>\n",
       "      <th>137</th>\n",
       "      <td>Mel Gibson</td>\n",
       "      <td>368000000.0</td>\n",
       "    </tr>\n",
       "    <tr>\n",
       "      <th>158</th>\n",
       "      <td>Peter Jackson</td>\n",
       "      <td>303001229.0</td>\n",
       "    </tr>\n",
       "    <tr>\n",
       "      <th>26</th>\n",
       "      <td>Chris Columbus</td>\n",
       "      <td>261835892.0</td>\n",
       "    </tr>\n",
       "    <tr>\n",
       "      <th>105</th>\n",
       "      <td>Joel Zwick</td>\n",
       "      <td>241250669.0</td>\n",
       "    </tr>\n",
       "    <tr>\n",
       "      <th>194</th>\n",
       "      <td>Steven Spielberg</td>\n",
       "      <td>234141872.0</td>\n",
       "    </tr>\n",
       "  </tbody>\n",
       "</table>\n",
       "</div>"
      ],
      "text/plain": [
       "             director   box_office\n",
       "137        Mel Gibson  368000000.0\n",
       "158     Peter Jackson  303001229.0\n",
       "26     Chris Columbus  261835892.0\n",
       "105        Joel Zwick  241250669.0\n",
       "194  Steven Spielberg  234141872.0"
      ]
     },
     "execution_count": 4,
     "metadata": {},
     "output_type": "execute_result"
    }
   ],
   "source": [
    "#Find the avarage sales of the movies  by director and select the top 30 Directors\n",
    "selected_movie_data_frame=movie_dataframe1.groupby(['director'],  as_index=False)['box_office'].mean().sort_values(by='box_office', ascending=False)\n",
    "best_30_director_box_offiice=selected_movie_data_frame.head(30)\n",
    "best_30_director_box_offiice.head()"
   ]
  },
  {
   "cell_type": "code",
   "execution_count": 5,
   "metadata": {},
   "outputs": [
    {
     "data": {
      "image/png": "[encoded data removed]",
      "text/plain": [
       "<Figure size 1008x504 with 1 Axes>"
      ]
     },
     "metadata": {
      "needs_background": "light"
     },
     "output_type": "display_data"
    }
   ],
   "source": [
    "# Will plot bar graph to visualize avarage sales of moviees per Director\n",
    "plt.figure(figsize=(14,7))\n",
    "ax6 = sns.barplot(x=best_30_director_box_offiice['box_office'], y=best_30_director_box_offiice['director'])\n",
    "plt.xlabel('Revenue interms Box Office', fontsize=14)\n",
    "plt.ylabel('Director Name', fontsize=14)\n",
    "plt.title('Average revenue in Box office', fontsize=16);"
   ]
  },
  {
   "cell_type": "markdown",
   "metadata": {},
   "source": [
    "reccomendation: Have analysed the most top 30  director from the industry based on the total sale  of the tickets or revenue from box office. From the above analysis I recommend that the Microsoft should hire the best Directors in order for the  movies to sale in Box Office which will eventually  nets to higher profits."
   ]
  },
  {
   "cell_type": "markdown",
   "metadata": {},
   "source": [
    "Question2: Whhat are the most profitable movies and how much should one investt in movies?"
   ]
  },
  {
   "cell_type": "markdown",
   "metadata": {},
   "source": [
    "To the question above I will select the dataframes that contain ther budget data which is movie_budget.I will calculate  the profit and thhe net profit from the data.Then I will look at the correlation between the production budget and the profits of the movies.Finally i will look at the median of the production budget of the movie."
   ]
  },
  {
   "cell_type": "code",
   "execution_count": 6,
   "metadata": {},
   "outputs": [
    {
     "data": {
      "text/html": [
       "<div>\n",
       "<style scoped>\n",
       "    .dataframe tbody tr th:only-of-type {\n",
       "        vertical-align: middle;\n",
       "    }\n",
       "\n",
       "    .dataframe tbody tr th {\n",
       "        vertical-align: top;\n",
       "    }\n",
       "\n",
       "    .dataframe thead th {\n",
       "        text-align: right;\n",
       "    }\n",
       "</style>\n",
       "<table border=\"1\" class=\"dataframe\">\n",
       "  <thead>\n",
       "    <tr style=\"text-align: right;\">\n",
       "      <th></th>\n",
       "      <th>id</th>\n",
       "      <th>release_date</th>\n",
       "      <th>movie</th>\n",
       "      <th>production_budget</th>\n",
       "      <th>domestic_gross</th>\n",
       "      <th>worldwide_gross</th>\n",
       "    </tr>\n",
       "  </thead>\n",
       "  <tbody>\n",
       "    <tr>\n",
       "      <th>0</th>\n",
       "      <td>1</td>\n",
       "      <td>Dec 18, 2009</td>\n",
       "      <td>Avatar</td>\n",
       "      <td>425000000</td>\n",
       "      <td>760507625</td>\n",
       "      <td>2776345279</td>\n",
       "    </tr>\n",
       "    <tr>\n",
       "      <th>1</th>\n",
       "      <td>43</td>\n",
       "      <td>Dec 19, 1997</td>\n",
       "      <td>Titanic</td>\n",
       "      <td>200000000</td>\n",
       "      <td>659363944</td>\n",
       "      <td>2208208395</td>\n",
       "    </tr>\n",
       "    <tr>\n",
       "      <th>2</th>\n",
       "      <td>6</td>\n",
       "      <td>Dec 18, 2015</td>\n",
       "      <td>Star Wars Ep. VII: The Force Awakens</td>\n",
       "      <td>306000000</td>\n",
       "      <td>936662225</td>\n",
       "      <td>2053311220</td>\n",
       "    </tr>\n",
       "    <tr>\n",
       "      <th>3</th>\n",
       "      <td>7</td>\n",
       "      <td>Apr 27, 2018</td>\n",
       "      <td>Avengers: Infinity War</td>\n",
       "      <td>300000000</td>\n",
       "      <td>678815482</td>\n",
       "      <td>2048134200</td>\n",
       "    </tr>\n",
       "    <tr>\n",
       "      <th>4</th>\n",
       "      <td>34</td>\n",
       "      <td>Jun 12, 2015</td>\n",
       "      <td>Jurassic World</td>\n",
       "      <td>215000000</td>\n",
       "      <td>652270625</td>\n",
       "      <td>1648854864</td>\n",
       "    </tr>\n",
       "  </tbody>\n",
       "</table>\n",
       "</div>"
      ],
      "text/plain": [
       "   id  release_date                                 movie  production_budget  \\\n",
       "0   1  Dec 18, 2009                                Avatar          425000000   \n",
       "1  43  Dec 19, 1997                               Titanic          200000000   \n",
       "2   6  Dec 18, 2015  Star Wars Ep. VII: The Force Awakens          306000000   \n",
       "3   7  Apr 27, 2018                Avengers: Infinity War          300000000   \n",
       "4  34  Jun 12, 2015                        Jurassic World          215000000   \n",
       "\n",
       "   domestic_gross  worldwide_gross  \n",
       "0       760507625       2776345279  \n",
       "1       659363944       2208208395  \n",
       "2       936662225       2053311220  \n",
       "3       678815482       2048134200  \n",
       "4       652270625       1648854864  "
      ]
     },
     "execution_count": 6,
     "metadata": {},
     "output_type": "execute_result"
    }
   ],
   "source": [
    "# first will load data that contains the budget\n",
    "movie_budgett = pd.read_csv('moviebudget.csv')\n",
    "movie_budgett = movie_budgett.loc[:, ~movie_budgett.columns.str.contains('^Unnamed')]\n",
    "movie_budgett.head()"
   ]
  },
  {
   "cell_type": "code",
   "execution_count": 7,
   "metadata": {},
   "outputs": [
    {
     "data": {
      "text/html": [
       "<div>\n",
       "<style scoped>\n",
       "    .dataframe tbody tr th:only-of-type {\n",
       "        vertical-align: middle;\n",
       "    }\n",
       "\n",
       "    .dataframe tbody tr th {\n",
       "        vertical-align: top;\n",
       "    }\n",
       "\n",
       "    .dataframe thead th {\n",
       "        text-align: right;\n",
       "    }\n",
       "</style>\n",
       "<table border=\"1\" class=\"dataframe\">\n",
       "  <thead>\n",
       "    <tr style=\"text-align: right;\">\n",
       "      <th></th>\n",
       "      <th>id</th>\n",
       "      <th>release_date</th>\n",
       "      <th>movie</th>\n",
       "      <th>production_budget</th>\n",
       "      <th>domestic_gross</th>\n",
       "      <th>worldwide_gross</th>\n",
       "      <th>profit</th>\n",
       "      <th>net profit margin</th>\n",
       "    </tr>\n",
       "  </thead>\n",
       "  <tbody>\n",
       "    <tr>\n",
       "      <th>0</th>\n",
       "      <td>1</td>\n",
       "      <td>Dec 18, 2009</td>\n",
       "      <td>Avatar</td>\n",
       "      <td>425000000</td>\n",
       "      <td>760507625</td>\n",
       "      <td>2776345279</td>\n",
       "      <td>2351345279</td>\n",
       "      <td>5.532577</td>\n",
       "    </tr>\n",
       "    <tr>\n",
       "      <th>1</th>\n",
       "      <td>43</td>\n",
       "      <td>Dec 19, 1997</td>\n",
       "      <td>Titanic</td>\n",
       "      <td>200000000</td>\n",
       "      <td>659363944</td>\n",
       "      <td>2208208395</td>\n",
       "      <td>2008208395</td>\n",
       "      <td>10.041042</td>\n",
       "    </tr>\n",
       "    <tr>\n",
       "      <th>2</th>\n",
       "      <td>6</td>\n",
       "      <td>Dec 18, 2015</td>\n",
       "      <td>Star Wars Ep. VII: The Force Awakens</td>\n",
       "      <td>306000000</td>\n",
       "      <td>936662225</td>\n",
       "      <td>2053311220</td>\n",
       "      <td>1747311220</td>\n",
       "      <td>5.710167</td>\n",
       "    </tr>\n",
       "    <tr>\n",
       "      <th>3</th>\n",
       "      <td>7</td>\n",
       "      <td>Apr 27, 2018</td>\n",
       "      <td>Avengers: Infinity War</td>\n",
       "      <td>300000000</td>\n",
       "      <td>678815482</td>\n",
       "      <td>2048134200</td>\n",
       "      <td>1748134200</td>\n",
       "      <td>5.827114</td>\n",
       "    </tr>\n",
       "    <tr>\n",
       "      <th>4</th>\n",
       "      <td>34</td>\n",
       "      <td>Jun 12, 2015</td>\n",
       "      <td>Jurassic World</td>\n",
       "      <td>215000000</td>\n",
       "      <td>652270625</td>\n",
       "      <td>1648854864</td>\n",
       "      <td>1433854864</td>\n",
       "      <td>6.669092</td>\n",
       "    </tr>\n",
       "  </tbody>\n",
       "</table>\n",
       "</div>"
      ],
      "text/plain": [
       "   id  release_date                                 movie  production_budget  \\\n",
       "0   1  Dec 18, 2009                                Avatar          425000000   \n",
       "1  43  Dec 19, 1997                               Titanic          200000000   \n",
       "2   6  Dec 18, 2015  Star Wars Ep. VII: The Force Awakens          306000000   \n",
       "3   7  Apr 27, 2018                Avengers: Infinity War          300000000   \n",
       "4  34  Jun 12, 2015                        Jurassic World          215000000   \n",
       "\n",
       "   domestic_gross  worldwide_gross      profit  net profit margin  \n",
       "0       760507625       2776345279  2351345279           5.532577  \n",
       "1       659363944       2208208395  2008208395          10.041042  \n",
       "2       936662225       2053311220  1747311220           5.710167  \n",
       "3       678815482       2048134200  1748134200           5.827114  \n",
       "4       652270625       1648854864  1433854864           6.669092  "
      ]
     },
     "execution_count": 7,
     "metadata": {},
     "output_type": "execute_result"
    }
   ],
   "source": [
    "# first will remove movies that have 0 in the domestic gross and then will calculate the profit and net profit\n",
    "movie_budgett= movie_budgett[movie_budgett['domestic_gross'] !=0]\n",
    "movie_budgett['profit'] = movie_budgett['worldwide_gross'] - movie_budgett['production_budget']\n",
    "movie_budgett['net profit margin'] = movie_budgett['profit'] / movie_budgett['production_budget']\n",
    "movie_budgett.head()\n"
   ]
  },
  {
   "cell_type": "code",
   "execution_count": 8,
   "metadata": {},
   "outputs": [],
   "source": [
    "# select the 30 most profitable movies\n",
    "profitable_movie=movie_budgett.head(30)"
   ]
  },
  {
   "cell_type": "code",
   "execution_count": 9,
   "metadata": {},
   "outputs": [
    {
     "name": "stderr",
     "output_type": "stream",
     "text": [
      "C:\\Users\\user\\anaconda3\\envs\\learn-env\\lib\\site-packages\\matplotlib\\backends\\backend_agg.py:238: RuntimeWarning: Glyph 128 missing from current font.\n",
      "  font.set_text(s, 0.0, flags=flags)\n",
      "C:\\Users\\user\\anaconda3\\envs\\learn-env\\lib\\site-packages\\matplotlib\\backends\\backend_agg.py:238: RuntimeWarning: Glyph 153 missing from current font.\n",
      "  font.set_text(s, 0.0, flags=flags)\n",
      "C:\\Users\\user\\anaconda3\\envs\\learn-env\\lib\\site-packages\\matplotlib\\backends\\backend_agg.py:201: RuntimeWarning: Glyph 128 missing from current font.\n",
      "  font.set_text(s, 0, flags=flags)\n",
      "C:\\Users\\user\\anaconda3\\envs\\learn-env\\lib\\site-packages\\matplotlib\\backends\\backend_agg.py:201: RuntimeWarning: Glyph 153 missing from current font.\n",
      "  font.set_text(s, 0, flags=flags)\n"
     ]
    },
    {
     "data": {
      "image/png": "[encoded data removed]",
      "text/plain": [
       "<Figure size 1008x504 with 1 Axes>"
      ]
     },
     "metadata": {
      "needs_background": "light"
     },
     "output_type": "display_data"
    }
   ],
   "source": [
    "# plot graph of top 30 movies movies agianst their profit\n",
    "plt.figure(figsize=(14,7))\n",
    "ax6 = sns.barplot(x=profitable_movie['profit'], y=profitable_movie['movie'])\n",
    "plt.xlabel('Profit', fontsize=14)\n",
    "plt.ylabel('Movie Name', fontsize=14)\n",
    "plt.title('Profit Earned in Movies', fontsize=16);"
   ]
  },
  {
   "cell_type": "markdown",
   "metadata": {},
   "source": [
    "Recommendation:From thhe abbove analysis Avatar,Titanic,star wars are the most succesfull movies produced in terms of their net profits.I reccomend that to the MIcrosoft to emulaate the best practices of the best from the above best movies to ensures the succes movies in terms of the net profits"
   ]
  },
  {
   "cell_type": "code",
   "execution_count": 153,
   "metadata": {},
   "outputs": [
    {
     "data": {
      "image/png": "[encoded data removed]",
      "text/plain": [
       "<Figure size 1008x504 with 1 Axes>"
      ]
     },
     "metadata": {
      "needs_background": "light"
     },
     "output_type": "display_data"
    }
   ],
   "source": [
    "# will plott  a scatter plot production budget vs the profits of movies\n",
    "sns.lmplot(x='production_budget', y='profit', data=movie_budgett, height=7, aspect=2)\n",
    "plt.xlabel('production budget)', fontsize=12)\n",
    "plt.ticklabel_format(axis='x', style='sci', scilimits=(6,6))\n",
    "plt.ylabel('Profit earn by movies', fontsize=12)\n",
    "plt.title('PRODUCTION BUDGET VS PROFIT EARNED BY MOVIES', fontsize=14);"
   ]
  },
  {
   "cell_type": "markdown",
   "metadata": {},
   "source": [
    "Recommendation: From the above scatter plot we can see it is positive trend.From analysis we can see that the more  money put in  movie budget it is likely to generate more profits in movies.I recommend that Microsoft should allocate movies more money in terms of their budget in order to generate more  incomes."
   ]
  },
  {
   "cell_type": "code",
   "execution_count": 11,
   "metadata": {},
   "outputs": [
    {
     "data": {
      "text/plain": [
       "count    3.000000e+01\n",
       "mean     2.210733e+08\n",
       "std      8.006962e+07\n",
       "min      7.400000e+07\n",
       "25%      1.787500e+08\n",
       "50%      2.000000e+08\n",
       "75%      2.500000e+08\n",
       "max      4.250000e+08\n",
       "Name: production_budget, dtype: float64"
      ]
     },
     "execution_count": 11,
     "metadata": {},
     "output_type": "execute_result"
    }
   ],
   "source": [
    "## look at the median\n",
    "profitable_movie['production_budget'].describe()"
   ]
  },
  {
   "cell_type": "code",
   "execution_count": 12,
   "metadata": {},
   "outputs": [
    {
     "data": {
      "text/plain": [
       "count    3.000000e+01\n",
       "mean     1.148121e+09\n",
       "std      3.754564e+08\n",
       "min      6.350639e+08\n",
       "25%      9.150929e+08\n",
       "50%      1.044962e+09\n",
       "75%      1.199584e+09\n",
       "max      2.351345e+09\n",
       "Name: profit, dtype: float64"
      ]
     },
     "execution_count": 12,
     "metadata": {},
     "output_type": "execute_result"
    }
   ],
   "source": [
    "profitable_movie['profit'].describe()"
   ]
  },
  {
   "cell_type": "markdown",
   "metadata": {},
   "source": [
    "Conclussion.We have analysed and thhhen we based my decision of the allocation on my badget based on thhe median so I I recommend that Microsoft should allocate  around 100 milion dollars to make a movie."
   ]
  },
  {
   "cell_type": "markdown",
   "metadata": {},
   "source": [
    "Question3: Which genres are most productive at the movie indusrty?"
   ]
  },
  {
   "cell_type": "markdown",
   "metadata": {},
   "source": [
    "I will select movie genre Budget dataframe because it contains the data for analysis.I will calculate profit of each genre ,profit margin and theen the percentage of the proofit."
   ]
  },
  {
   "cell_type": "code",
   "execution_count": 23,
   "metadata": {},
   "outputs": [
    {
     "data": {
      "text/html": [
       "<div>\n",
       "<style scoped>\n",
       "    .dataframe tbody tr th:only-of-type {\n",
       "        vertical-align: middle;\n",
       "    }\n",
       "\n",
       "    .dataframe tbody tr th {\n",
       "        vertical-align: top;\n",
       "    }\n",
       "\n",
       "    .dataframe thead th {\n",
       "        text-align: right;\n",
       "    }\n",
       "</style>\n",
       "<table border=\"1\" class=\"dataframe\">\n",
       "  <thead>\n",
       "    <tr style=\"text-align: right;\">\n",
       "      <th></th>\n",
       "      <th>studio</th>\n",
       "      <th>runtime_minutes</th>\n",
       "      <th>genres</th>\n",
       "      <th>id</th>\n",
       "      <th>release_date</th>\n",
       "      <th>movie</th>\n",
       "      <th>production_budget</th>\n",
       "      <th>worldwide_gross</th>\n",
       "      <th>profit</th>\n",
       "      <th>Net profit</th>\n",
       "      <th>profit_magirn</th>\n",
       "      <th>%_profitt</th>\n",
       "    </tr>\n",
       "  </thead>\n",
       "  <tbody>\n",
       "    <tr>\n",
       "      <th>0</th>\n",
       "      <td>BV</td>\n",
       "      <td>103.0</td>\n",
       "      <td>Adventure,Animation,Comedy</td>\n",
       "      <td>47</td>\n",
       "      <td>Jun 18, 2010</td>\n",
       "      <td>Toy Story 3</td>\n",
       "      <td>200000000</td>\n",
       "      <td>1068879522</td>\n",
       "      <td>868879522</td>\n",
       "      <td>4.344398</td>\n",
       "      <td>4.344398</td>\n",
       "      <td>434.439761</td>\n",
       "    </tr>\n",
       "    <tr>\n",
       "      <th>1</th>\n",
       "      <td>WB</td>\n",
       "      <td>148.0</td>\n",
       "      <td>Action,Adventure,Sci-Fi</td>\n",
       "      <td>38</td>\n",
       "      <td>Jul 16, 2010</td>\n",
       "      <td>Inception</td>\n",
       "      <td>160000000</td>\n",
       "      <td>835524642</td>\n",
       "      <td>675524642</td>\n",
       "      <td>4.222029</td>\n",
       "      <td>4.222029</td>\n",
       "      <td>422.202901</td>\n",
       "    </tr>\n",
       "    <tr>\n",
       "      <th>2</th>\n",
       "      <td>P/DW</td>\n",
       "      <td>93.0</td>\n",
       "      <td>Adventure,Animation,Comedy</td>\n",
       "      <td>27</td>\n",
       "      <td>May 21, 2010</td>\n",
       "      <td>Shrek Forever After</td>\n",
       "      <td>165000000</td>\n",
       "      <td>756244673</td>\n",
       "      <td>591244673</td>\n",
       "      <td>3.583301</td>\n",
       "      <td>3.583301</td>\n",
       "      <td>358.330105</td>\n",
       "    </tr>\n",
       "    <tr>\n",
       "      <th>3</th>\n",
       "      <td>Sum.</td>\n",
       "      <td>124.0</td>\n",
       "      <td>Adventure,Drama,Fantasy</td>\n",
       "      <td>53</td>\n",
       "      <td>Jun 30, 2010</td>\n",
       "      <td>The Twilight Saga: Eclipse</td>\n",
       "      <td>68000000</td>\n",
       "      <td>706102828</td>\n",
       "      <td>638102828</td>\n",
       "      <td>9.383865</td>\n",
       "      <td>9.383865</td>\n",
       "      <td>938.386512</td>\n",
       "    </tr>\n",
       "    <tr>\n",
       "      <th>4</th>\n",
       "      <td>Par.</td>\n",
       "      <td>124.0</td>\n",
       "      <td>Action,Adventure,Sci-Fi</td>\n",
       "      <td>15</td>\n",
       "      <td>May 7, 2010</td>\n",
       "      <td>Iron Man 2</td>\n",
       "      <td>170000000</td>\n",
       "      <td>621156389</td>\n",
       "      <td>451156389</td>\n",
       "      <td>2.653861</td>\n",
       "      <td>2.653861</td>\n",
       "      <td>265.386111</td>\n",
       "    </tr>\n",
       "  </tbody>\n",
       "</table>\n",
       "</div>"
      ],
      "text/plain": [
       "  studio  runtime_minutes                      genres  id  release_date  \\\n",
       "0     BV            103.0  Adventure,Animation,Comedy  47  Jun 18, 2010   \n",
       "1     WB            148.0     Action,Adventure,Sci-Fi  38  Jul 16, 2010   \n",
       "2   P/DW             93.0  Adventure,Animation,Comedy  27  May 21, 2010   \n",
       "3   Sum.            124.0     Adventure,Drama,Fantasy  53  Jun 30, 2010   \n",
       "4   Par.            124.0     Action,Adventure,Sci-Fi  15   May 7, 2010   \n",
       "\n",
       "                        movie  production_budget  worldwide_gross     profit  \\\n",
       "0                 Toy Story 3          200000000       1068879522  868879522   \n",
       "1                   Inception          160000000        835524642  675524642   \n",
       "2         Shrek Forever After          165000000        756244673  591244673   \n",
       "3  The Twilight Saga: Eclipse           68000000        706102828  638102828   \n",
       "4                  Iron Man 2          170000000        621156389  451156389   \n",
       "\n",
       "   Net profit  profit_magirn   %_profitt  \n",
       "0    4.344398       4.344398  434.439761  \n",
       "1    4.222029       4.222029  422.202901  \n",
       "2    3.583301       3.583301  358.330105  \n",
       "3    9.383865       9.383865  938.386512  \n",
       "4    2.653861       2.653861  265.386111  "
      ]
     },
     "execution_count": 23,
     "metadata": {},
     "output_type": "execute_result"
    }
   ],
   "source": [
    "## Load the data containing genres and removing unnamed column\n",
    "movie_genre_budget.head()\n",
    "movie_genre_budget = movie_genre_budget.loc[:, ~movie_genre_budget.columns.str.contains('^Unnamed')]\n",
    "movie_genre_budget.head()"
   ]
  },
  {
   "cell_type": "code",
   "execution_count": 27,
   "metadata": {},
   "outputs": [
    {
     "data": {
      "text/html": [
       "<div>\n",
       "<style scoped>\n",
       "    .dataframe tbody tr th:only-of-type {\n",
       "        vertical-align: middle;\n",
       "    }\n",
       "\n",
       "    .dataframe tbody tr th {\n",
       "        vertical-align: top;\n",
       "    }\n",
       "\n",
       "    .dataframe thead th {\n",
       "        text-align: right;\n",
       "    }\n",
       "</style>\n",
       "<table border=\"1\" class=\"dataframe\">\n",
       "  <thead>\n",
       "    <tr style=\"text-align: right;\">\n",
       "      <th></th>\n",
       "      <th>studio</th>\n",
       "      <th>runtime_minutes</th>\n",
       "      <th>genres</th>\n",
       "      <th>id</th>\n",
       "      <th>release_date</th>\n",
       "      <th>movie</th>\n",
       "      <th>production_budget</th>\n",
       "      <th>worldwide_gross</th>\n",
       "      <th>profit</th>\n",
       "      <th>Net profit</th>\n",
       "      <th>profit_magirn</th>\n",
       "      <th>%_profitt</th>\n",
       "    </tr>\n",
       "  </thead>\n",
       "  <tbody>\n",
       "    <tr>\n",
       "      <th>0</th>\n",
       "      <td>BV</td>\n",
       "      <td>103.0</td>\n",
       "      <td>Adventure,Animation,Comedy</td>\n",
       "      <td>47</td>\n",
       "      <td>Jun 18, 2010</td>\n",
       "      <td>Toy Story 3</td>\n",
       "      <td>200000000</td>\n",
       "      <td>1068879522</td>\n",
       "      <td>868879522</td>\n",
       "      <td>4.344398</td>\n",
       "      <td>4.344398</td>\n",
       "      <td>434.439761</td>\n",
       "    </tr>\n",
       "    <tr>\n",
       "      <th>1</th>\n",
       "      <td>WB</td>\n",
       "      <td>148.0</td>\n",
       "      <td>Action,Adventure,Sci-Fi</td>\n",
       "      <td>38</td>\n",
       "      <td>Jul 16, 2010</td>\n",
       "      <td>Inception</td>\n",
       "      <td>160000000</td>\n",
       "      <td>835524642</td>\n",
       "      <td>675524642</td>\n",
       "      <td>4.222029</td>\n",
       "      <td>4.222029</td>\n",
       "      <td>422.202901</td>\n",
       "    </tr>\n",
       "    <tr>\n",
       "      <th>2</th>\n",
       "      <td>P/DW</td>\n",
       "      <td>93.0</td>\n",
       "      <td>Adventure,Animation,Comedy</td>\n",
       "      <td>27</td>\n",
       "      <td>May 21, 2010</td>\n",
       "      <td>Shrek Forever After</td>\n",
       "      <td>165000000</td>\n",
       "      <td>756244673</td>\n",
       "      <td>591244673</td>\n",
       "      <td>3.583301</td>\n",
       "      <td>3.583301</td>\n",
       "      <td>358.330105</td>\n",
       "    </tr>\n",
       "    <tr>\n",
       "      <th>3</th>\n",
       "      <td>Sum.</td>\n",
       "      <td>124.0</td>\n",
       "      <td>Adventure,Drama,Fantasy</td>\n",
       "      <td>53</td>\n",
       "      <td>Jun 30, 2010</td>\n",
       "      <td>The Twilight Saga: Eclipse</td>\n",
       "      <td>68000000</td>\n",
       "      <td>706102828</td>\n",
       "      <td>638102828</td>\n",
       "      <td>9.383865</td>\n",
       "      <td>9.383865</td>\n",
       "      <td>938.386512</td>\n",
       "    </tr>\n",
       "    <tr>\n",
       "      <th>4</th>\n",
       "      <td>Par.</td>\n",
       "      <td>124.0</td>\n",
       "      <td>Action,Adventure,Sci-Fi</td>\n",
       "      <td>15</td>\n",
       "      <td>May 7, 2010</td>\n",
       "      <td>Iron Man 2</td>\n",
       "      <td>170000000</td>\n",
       "      <td>621156389</td>\n",
       "      <td>451156389</td>\n",
       "      <td>2.653861</td>\n",
       "      <td>2.653861</td>\n",
       "      <td>265.386111</td>\n",
       "    </tr>\n",
       "  </tbody>\n",
       "</table>\n",
       "</div>"
      ],
      "text/plain": [
       "  studio  runtime_minutes                      genres  id  release_date  \\\n",
       "0     BV            103.0  Adventure,Animation,Comedy  47  Jun 18, 2010   \n",
       "1     WB            148.0     Action,Adventure,Sci-Fi  38  Jul 16, 2010   \n",
       "2   P/DW             93.0  Adventure,Animation,Comedy  27  May 21, 2010   \n",
       "3   Sum.            124.0     Adventure,Drama,Fantasy  53  Jun 30, 2010   \n",
       "4   Par.            124.0     Action,Adventure,Sci-Fi  15   May 7, 2010   \n",
       "\n",
       "                        movie  production_budget  worldwide_gross     profit  \\\n",
       "0                 Toy Story 3          200000000       1068879522  868879522   \n",
       "1                   Inception          160000000        835524642  675524642   \n",
       "2         Shrek Forever After          165000000        756244673  591244673   \n",
       "3  The Twilight Saga: Eclipse           68000000        706102828  638102828   \n",
       "4                  Iron Man 2          170000000        621156389  451156389   \n",
       "\n",
       "   Net profit  profit_magirn   %_profitt  \n",
       "0    4.344398       4.344398  434.439761  \n",
       "1    4.222029       4.222029  422.202901  \n",
       "2    3.583301       3.583301  358.330105  \n",
       "3    9.383865       9.383865  938.386512  \n",
       "4    2.653861       2.653861  265.386111  "
      ]
     },
     "execution_count": 27,
     "metadata": {},
     "output_type": "execute_result"
    }
   ],
   "source": [
    "## calculate thhe profit of each genre ,profit margin and percentage profit\n",
    "movie_genre_budget['profit']=movie_genre_budget['worldwide_gross'] - movie_genre_budget['production_budget']\n",
    "movie_genre_budget['profit_magirn']=movie_genre_budget['profit'] / movie_genre_budget['production_budget']\n",
    "movie_genre_budget['%_profitt']= movie_genre_budget['profit_magirn'] * 100\n",
    "movie_genre_budget.sort_values (by='profit',ascending=False)\n",
    "movie_genre_budget.head()"
   ]
  },
  {
   "cell_type": "code",
   "execution_count": 25,
   "metadata": {},
   "outputs": [
    {
     "data": {
      "text/html": [
       "<div>\n",
       "<style scoped>\n",
       "    .dataframe tbody tr th:only-of-type {\n",
       "        vertical-align: middle;\n",
       "    }\n",
       "\n",
       "    .dataframe tbody tr th {\n",
       "        vertical-align: top;\n",
       "    }\n",
       "\n",
       "    .dataframe thead th {\n",
       "        text-align: right;\n",
       "    }\n",
       "</style>\n",
       "<table border=\"1\" class=\"dataframe\">\n",
       "  <thead>\n",
       "    <tr style=\"text-align: right;\">\n",
       "      <th></th>\n",
       "      <th>runtime_minutes</th>\n",
       "      <th>id</th>\n",
       "      <th>production_budget</th>\n",
       "      <th>worldwide_gross</th>\n",
       "      <th>profit</th>\n",
       "      <th>Net profit</th>\n",
       "      <th>profit_magirn</th>\n",
       "      <th>%_profitt</th>\n",
       "    </tr>\n",
       "    <tr>\n",
       "      <th>genres</th>\n",
       "      <th></th>\n",
       "      <th></th>\n",
       "      <th></th>\n",
       "      <th></th>\n",
       "      <th></th>\n",
       "      <th></th>\n",
       "      <th></th>\n",
       "      <th></th>\n",
       "    </tr>\n",
       "  </thead>\n",
       "  <tbody>\n",
       "    <tr>\n",
       "      <th>Action</th>\n",
       "      <td>111.000000</td>\n",
       "      <td>59.900000</td>\n",
       "      <td>3.232000e+07</td>\n",
       "      <td>9.732942e+07</td>\n",
       "      <td>6.500942e+07</td>\n",
       "      <td>4.133705</td>\n",
       "      <td>4.133705</td>\n",
       "      <td>413.370459</td>\n",
       "    </tr>\n",
       "    <tr>\n",
       "      <th>Action,Adventure</th>\n",
       "      <td>103.000000</td>\n",
       "      <td>54.000000</td>\n",
       "      <td>4.500000e+06</td>\n",
       "      <td>1.177400e+04</td>\n",
       "      <td>-4.488226e+06</td>\n",
       "      <td>-0.997384</td>\n",
       "      <td>-0.997384</td>\n",
       "      <td>-99.738356</td>\n",
       "    </tr>\n",
       "    <tr>\n",
       "      <th>Action,Adventure,Animation</th>\n",
       "      <td>100.000000</td>\n",
       "      <td>48.076923</td>\n",
       "      <td>1.300000e+08</td>\n",
       "      <td>4.779544e+08</td>\n",
       "      <td>3.479544e+08</td>\n",
       "      <td>2.220638</td>\n",
       "      <td>2.220638</td>\n",
       "      <td>222.063829</td>\n",
       "    </tr>\n",
       "    <tr>\n",
       "      <th>Action,Adventure,Biography</th>\n",
       "      <td>124.666667</td>\n",
       "      <td>39.000000</td>\n",
       "      <td>9.000000e+07</td>\n",
       "      <td>2.268429e+08</td>\n",
       "      <td>1.368429e+08</td>\n",
       "      <td>1.166277</td>\n",
       "      <td>1.166277</td>\n",
       "      <td>116.627656</td>\n",
       "    </tr>\n",
       "    <tr>\n",
       "      <th>Action,Adventure,Comedy</th>\n",
       "      <td>112.411765</td>\n",
       "      <td>42.647059</td>\n",
       "      <td>1.027647e+08</td>\n",
       "      <td>4.358324e+08</td>\n",
       "      <td>3.330677e+08</td>\n",
       "      <td>3.375817</td>\n",
       "      <td>3.375817</td>\n",
       "      <td>337.581710</td>\n",
       "    </tr>\n",
       "  </tbody>\n",
       "</table>\n",
       "</div>"
      ],
      "text/plain": [
       "                            runtime_minutes         id  production_budget  \\\n",
       "genres                                                                      \n",
       "Action                           111.000000  59.900000       3.232000e+07   \n",
       "Action,Adventure                 103.000000  54.000000       4.500000e+06   \n",
       "Action,Adventure,Animation       100.000000  48.076923       1.300000e+08   \n",
       "Action,Adventure,Biography       124.666667  39.000000       9.000000e+07   \n",
       "Action,Adventure,Comedy          112.411765  42.647059       1.027647e+08   \n",
       "\n",
       "                            worldwide_gross        profit  Net profit  \\\n",
       "genres                                                                  \n",
       "Action                         9.732942e+07  6.500942e+07    4.133705   \n",
       "Action,Adventure               1.177400e+04 -4.488226e+06   -0.997384   \n",
       "Action,Adventure,Animation     4.779544e+08  3.479544e+08    2.220638   \n",
       "Action,Adventure,Biography     2.268429e+08  1.368429e+08    1.166277   \n",
       "Action,Adventure,Comedy        4.358324e+08  3.330677e+08    3.375817   \n",
       "\n",
       "                            profit_magirn   %_profitt  \n",
       "genres                                                 \n",
       "Action                           4.133705  413.370459  \n",
       "Action,Adventure                -0.997384  -99.738356  \n",
       "Action,Adventure,Animation       2.220638  222.063829  \n",
       "Action,Adventure,Biography       1.166277  116.627656  \n",
       "Action,Adventure,Comedy          3.375817  337.581710  "
      ]
     },
     "execution_count": 25,
     "metadata": {},
     "output_type": "execute_result"
    }
   ],
   "source": [
    "## using groupby we caculate the mean of genre\n",
    "profit_by_movie_genre=movie_genre_budget.groupby('genres').mean()\n",
    "profit_by_movie_genre.head()"
   ]
  },
  {
   "cell_type": "code",
   "execution_count": 16,
   "metadata": {},
   "outputs": [
    {
     "data": {
      "text/plain": [
       "Text(0.5, 1.0, 'Average Profit by genre')"
      ]
     },
     "execution_count": 16,
     "metadata": {},
     "output_type": "execute_result"
    },
    {
     "data": {
      "image/png": "[encoded data removed]",
      "text/plain": [
       "<Figure size 2160x720 with 1 Axes>"
      ]
     },
     "metadata": {
      "needs_background": "light"
     },
     "output_type": "display_data"
    }
   ],
   "source": [
    "profit_by_movie_genre = profit_by_movie_genre.groupby(['genres'])['profit_magirn'].mean()\n",
    "\n",
    "profit_by_movie_genre = profit_by_movie_genre.sort_values(ascending=False).head(30)\n",
    "\n",
    "profit_by_movie_genre.plot.bar(figsize=(30,10))\n",
    "\n",
    "plt.ylabel('Average Profit ')\n",
    "plt.title('Average Profit by genre')"
   ]
  },
  {
   "cell_type": "markdown",
   "metadata": {},
   "source": [
    "Recomendation: From the above annalysis I recommend to Microsoft shhould allocate  budgetts to all genres bbecause they have potential to generate more incomes and profit.The high perfomance genres according to the analysis are Horror,Action,Crime,Thhriller,comedy have succes in terms of their net profits in movie industry"
   ]
  },
  {
   "cell_type": "markdown",
   "metadata": {},
   "source": [
    "Question4:Which are the most succesfull studios in the movie industry?"
   ]
  },
  {
   "cell_type": "markdown",
   "metadata": {},
   "source": [
    "In this quesstion I will look at the most succeful studio in thhe world of movie industry. I will analyse the profit and profit  p magirns."
   ]
  },
  {
   "cell_type": "code",
   "execution_count": 132,
   "metadata": {},
   "outputs": [
    {
     "data": {
      "text/html": [
       "<div>\n",
       "<style scoped>\n",
       "    .dataframe tbody tr th:only-of-type {\n",
       "        vertical-align: middle;\n",
       "    }\n",
       "\n",
       "    .dataframe tbody tr th {\n",
       "        vertical-align: top;\n",
       "    }\n",
       "\n",
       "    .dataframe thead th {\n",
       "        text-align: right;\n",
       "    }\n",
       "</style>\n",
       "<table border=\"1\" class=\"dataframe\">\n",
       "  <thead>\n",
       "    <tr style=\"text-align: right;\">\n",
       "      <th></th>\n",
       "      <th>studio</th>\n",
       "      <th>id</th>\n",
       "      <th>release_date</th>\n",
       "      <th>movie</th>\n",
       "      <th>production_budget</th>\n",
       "      <th>worldwide_gross</th>\n",
       "      <th>profit</th>\n",
       "      <th>Net profit</th>\n",
       "    </tr>\n",
       "  </thead>\n",
       "  <tbody>\n",
       "    <tr>\n",
       "      <th>0</th>\n",
       "      <td>BV</td>\n",
       "      <td>47</td>\n",
       "      <td>Jun 18, 2010</td>\n",
       "      <td>Toy Story 3</td>\n",
       "      <td>200000000</td>\n",
       "      <td>1068879522</td>\n",
       "      <td>868879522</td>\n",
       "      <td>4.344398</td>\n",
       "    </tr>\n",
       "    <tr>\n",
       "      <th>1</th>\n",
       "      <td>WB</td>\n",
       "      <td>38</td>\n",
       "      <td>Jul 16, 2010</td>\n",
       "      <td>Inception</td>\n",
       "      <td>160000000</td>\n",
       "      <td>835524642</td>\n",
       "      <td>675524642</td>\n",
       "      <td>4.222029</td>\n",
       "    </tr>\n",
       "    <tr>\n",
       "      <th>2</th>\n",
       "      <td>P/DW</td>\n",
       "      <td>27</td>\n",
       "      <td>May 21, 2010</td>\n",
       "      <td>Shrek Forever After</td>\n",
       "      <td>165000000</td>\n",
       "      <td>756244673</td>\n",
       "      <td>591244673</td>\n",
       "      <td>3.583301</td>\n",
       "    </tr>\n",
       "    <tr>\n",
       "      <th>3</th>\n",
       "      <td>Sum.</td>\n",
       "      <td>53</td>\n",
       "      <td>Jun 30, 2010</td>\n",
       "      <td>The Twilight Saga: Eclipse</td>\n",
       "      <td>68000000</td>\n",
       "      <td>706102828</td>\n",
       "      <td>638102828</td>\n",
       "      <td>9.383865</td>\n",
       "    </tr>\n",
       "    <tr>\n",
       "      <th>4</th>\n",
       "      <td>Par.</td>\n",
       "      <td>15</td>\n",
       "      <td>May 7, 2010</td>\n",
       "      <td>Iron Man 2</td>\n",
       "      <td>170000000</td>\n",
       "      <td>621156389</td>\n",
       "      <td>451156389</td>\n",
       "      <td>2.653861</td>\n",
       "    </tr>\n",
       "  </tbody>\n",
       "</table>\n",
       "</div>"
      ],
      "text/plain": [
       "  studio  id  release_date                       movie  production_budget  \\\n",
       "0     BV  47  Jun 18, 2010                 Toy Story 3          200000000   \n",
       "1     WB  38  Jul 16, 2010                   Inception          160000000   \n",
       "2   P/DW  27  May 21, 2010         Shrek Forever After          165000000   \n",
       "3   Sum.  53  Jun 30, 2010  The Twilight Saga: Eclipse           68000000   \n",
       "4   Par.  15   May 7, 2010                  Iron Man 2          170000000   \n",
       "\n",
       "   worldwide_gross     profit  Net profit  \n",
       "0       1068879522  868879522    4.344398  \n",
       "1        835524642  675524642    4.222029  \n",
       "2        756244673  591244673    3.583301  \n",
       "3        706102828  638102828    9.383865  \n",
       "4        621156389  451156389    2.653861  "
      ]
     },
     "execution_count": 132,
     "metadata": {},
     "output_type": "execute_result"
    }
   ],
   "source": [
    "# first I will load thhe data containing thhe studios and removing unnamed column\n",
    "movie_merge.head()\n",
    "movie_merge = movie_merge.loc[:, ~movie_merge.columns.str.contains('^Unnamed')]\n",
    "movie_merge.head()"
   ]
  },
  {
   "cell_type": "code",
   "execution_count": 133,
   "metadata": {},
   "outputs": [
    {
     "data": {
      "text/html": [
       "<div>\n",
       "<style scoped>\n",
       "    .dataframe tbody tr th:only-of-type {\n",
       "        vertical-align: middle;\n",
       "    }\n",
       "\n",
       "    .dataframe tbody tr th {\n",
       "        vertical-align: top;\n",
       "    }\n",
       "\n",
       "    .dataframe thead th {\n",
       "        text-align: right;\n",
       "    }\n",
       "</style>\n",
       "<table border=\"1\" class=\"dataframe\">\n",
       "  <thead>\n",
       "    <tr style=\"text-align: right;\">\n",
       "      <th></th>\n",
       "      <th>studio</th>\n",
       "      <th>id</th>\n",
       "      <th>release_date</th>\n",
       "      <th>movie</th>\n",
       "      <th>production_budget</th>\n",
       "      <th>worldwide_gross</th>\n",
       "      <th>profit</th>\n",
       "      <th>Net profit</th>\n",
       "      <th>%_profit</th>\n",
       "    </tr>\n",
       "  </thead>\n",
       "  <tbody>\n",
       "    <tr>\n",
       "      <th>0</th>\n",
       "      <td>BV</td>\n",
       "      <td>47</td>\n",
       "      <td>Jun 18, 2010</td>\n",
       "      <td>Toy Story 3</td>\n",
       "      <td>200000000</td>\n",
       "      <td>1068879522</td>\n",
       "      <td>868879522</td>\n",
       "      <td>4.344398</td>\n",
       "      <td>434.439761</td>\n",
       "    </tr>\n",
       "    <tr>\n",
       "      <th>1</th>\n",
       "      <td>WB</td>\n",
       "      <td>38</td>\n",
       "      <td>Jul 16, 2010</td>\n",
       "      <td>Inception</td>\n",
       "      <td>160000000</td>\n",
       "      <td>835524642</td>\n",
       "      <td>675524642</td>\n",
       "      <td>4.222029</td>\n",
       "      <td>422.202901</td>\n",
       "    </tr>\n",
       "    <tr>\n",
       "      <th>2</th>\n",
       "      <td>P/DW</td>\n",
       "      <td>27</td>\n",
       "      <td>May 21, 2010</td>\n",
       "      <td>Shrek Forever After</td>\n",
       "      <td>165000000</td>\n",
       "      <td>756244673</td>\n",
       "      <td>591244673</td>\n",
       "      <td>3.583301</td>\n",
       "      <td>358.330105</td>\n",
       "    </tr>\n",
       "    <tr>\n",
       "      <th>3</th>\n",
       "      <td>Sum.</td>\n",
       "      <td>53</td>\n",
       "      <td>Jun 30, 2010</td>\n",
       "      <td>The Twilight Saga: Eclipse</td>\n",
       "      <td>68000000</td>\n",
       "      <td>706102828</td>\n",
       "      <td>638102828</td>\n",
       "      <td>9.383865</td>\n",
       "      <td>938.386512</td>\n",
       "    </tr>\n",
       "    <tr>\n",
       "      <th>4</th>\n",
       "      <td>Par.</td>\n",
       "      <td>15</td>\n",
       "      <td>May 7, 2010</td>\n",
       "      <td>Iron Man 2</td>\n",
       "      <td>170000000</td>\n",
       "      <td>621156389</td>\n",
       "      <td>451156389</td>\n",
       "      <td>2.653861</td>\n",
       "      <td>265.386111</td>\n",
       "    </tr>\n",
       "  </tbody>\n",
       "</table>\n",
       "</div>"
      ],
      "text/plain": [
       "  studio  id  release_date                       movie  production_budget  \\\n",
       "0     BV  47  Jun 18, 2010                 Toy Story 3          200000000   \n",
       "1     WB  38  Jul 16, 2010                   Inception          160000000   \n",
       "2   P/DW  27  May 21, 2010         Shrek Forever After          165000000   \n",
       "3   Sum.  53  Jun 30, 2010  The Twilight Saga: Eclipse           68000000   \n",
       "4   Par.  15   May 7, 2010                  Iron Man 2          170000000   \n",
       "\n",
       "   worldwide_gross     profit  Net profit    %_profit  \n",
       "0       1068879522  868879522    4.344398  434.439761  \n",
       "1        835524642  675524642    4.222029  422.202901  \n",
       "2        756244673  591244673    3.583301  358.330105  \n",
       "3        706102828  638102828    9.383865  938.386512  \n",
       "4        621156389  451156389    2.653861  265.386111  "
      ]
     },
     "execution_count": 133,
     "metadata": {},
     "output_type": "execute_result"
    }
   ],
   "source": [
    "## Calculate  profit and net margin of thhe studios\n",
    "movie_merge['profit']=movie_merge['worldwide_gross'] - movie_merge['production_budget']\n",
    "movie_merge['%_profit']=(movie_merge['profit'] / movie_merge['production_budget']) * 100\n",
    "movie_merge.head()"
   ]
  },
  {
   "cell_type": "code",
   "execution_count": 135,
   "metadata": {},
   "outputs": [
    {
     "data": {
      "text/html": [
       "<div>\n",
       "<style scoped>\n",
       "    .dataframe tbody tr th:only-of-type {\n",
       "        vertical-align: middle;\n",
       "    }\n",
       "\n",
       "    .dataframe tbody tr th {\n",
       "        vertical-align: top;\n",
       "    }\n",
       "\n",
       "    .dataframe thead th {\n",
       "        text-align: right;\n",
       "    }\n",
       "</style>\n",
       "<table border=\"1\" class=\"dataframe\">\n",
       "  <thead>\n",
       "    <tr style=\"text-align: right;\">\n",
       "      <th></th>\n",
       "      <th>id</th>\n",
       "      <th>production_budget</th>\n",
       "      <th>worldwide_gross</th>\n",
       "      <th>profit</th>\n",
       "      <th>Net profit</th>\n",
       "      <th>%_profit</th>\n",
       "    </tr>\n",
       "    <tr>\n",
       "      <th>studio</th>\n",
       "      <th></th>\n",
       "      <th></th>\n",
       "      <th></th>\n",
       "      <th></th>\n",
       "      <th></th>\n",
       "      <th></th>\n",
       "    </tr>\n",
       "  </thead>\n",
       "  <tbody>\n",
       "    <tr>\n",
       "      <th>3D</th>\n",
       "      <td>31.000000</td>\n",
       "      <td>5.000000e+06</td>\n",
       "      <td>1.651520e+07</td>\n",
       "      <td>1.151520e+07</td>\n",
       "      <td>2.303041</td>\n",
       "      <td>230.304060</td>\n",
       "    </tr>\n",
       "    <tr>\n",
       "      <th>A24</th>\n",
       "      <td>48.095238</td>\n",
       "      <td>6.814286e+06</td>\n",
       "      <td>1.904788e+07</td>\n",
       "      <td>1.223359e+07</td>\n",
       "      <td>3.242422</td>\n",
       "      <td>324.242218</td>\n",
       "    </tr>\n",
       "    <tr>\n",
       "      <th>ALP</th>\n",
       "      <td>52.000000</td>\n",
       "      <td>2.600000e+07</td>\n",
       "      <td>2.923959e+06</td>\n",
       "      <td>-2.307604e+07</td>\n",
       "      <td>-0.887540</td>\n",
       "      <td>-88.754004</td>\n",
       "    </tr>\n",
       "    <tr>\n",
       "      <th>ATO</th>\n",
       "      <td>32.000000</td>\n",
       "      <td>1.250000e+07</td>\n",
       "      <td>2.272186e+06</td>\n",
       "      <td>-1.022781e+07</td>\n",
       "      <td>-0.818225</td>\n",
       "      <td>-81.822512</td>\n",
       "    </tr>\n",
       "    <tr>\n",
       "      <th>Affirm</th>\n",
       "      <td>53.500000</td>\n",
       "      <td>3.500000e+06</td>\n",
       "      <td>1.573575e+07</td>\n",
       "      <td>1.223575e+07</td>\n",
       "      <td>3.038448</td>\n",
       "      <td>303.844830</td>\n",
       "    </tr>\n",
       "  </tbody>\n",
       "</table>\n",
       "</div>"
      ],
      "text/plain": [
       "               id  production_budget  worldwide_gross        profit  \\\n",
       "studio                                                                \n",
       "3D      31.000000       5.000000e+06     1.651520e+07  1.151520e+07   \n",
       "A24     48.095238       6.814286e+06     1.904788e+07  1.223359e+07   \n",
       "ALP     52.000000       2.600000e+07     2.923959e+06 -2.307604e+07   \n",
       "ATO     32.000000       1.250000e+07     2.272186e+06 -1.022781e+07   \n",
       "Affirm  53.500000       3.500000e+06     1.573575e+07  1.223575e+07   \n",
       "\n",
       "        Net profit    %_profit  \n",
       "studio                          \n",
       "3D        2.303041  230.304060  \n",
       "A24       3.242422  324.242218  \n",
       "ALP      -0.887540  -88.754004  \n",
       "ATO      -0.818225  -81.822512  \n",
       "Affirm    3.038448  303.844830  "
      ]
     },
     "execution_count": 135,
     "metadata": {},
     "output_type": "execute_result"
    }
   ],
   "source": [
    "profit_by_movie_studio=movie_merge.groupby('studio').mean()\n",
    "profit_by_movie_studio.head()"
   ]
  },
  {
   "cell_type": "code",
   "execution_count": 136,
   "metadata": {},
   "outputs": [
    {
     "data": {
      "text/plain": [
       "Text(0.5, 1.0, 'Average Profit by Studio')"
      ]
     },
     "execution_count": 136,
     "metadata": {},
     "output_type": "execute_result"
    },
    {
     "data": {
      "image/png": "[encoded data removed]",
      "text/plain": [
       "<Figure size 2160x720 with 1 Axes>"
      ]
     },
     "metadata": {
      "needs_background": "light"
     },
     "output_type": "display_data"
    }
   ],
   "source": [
    "profit_by_movie_studio = profit_by_movie_studio.groupby(['studio'])['profit'].mean()\n",
    "\n",
    "profit_by_movie_studio = profit_by_movie_studio.sort_values(ascending=False).head(30)\n",
    "\n",
    "profit_by_movie_studio.plot.bar(figsize=(30,10))\n",
    "\n",
    "plt.ylabel('Average Profit ')\n",
    "plt.title('Average Profit by Studio')"
   ]
  },
  {
   "cell_type": "markdown",
   "metadata": {},
   "source": [
    "Recommendation:That from the data above I recomend is to employ best practices to equivalent to top 10 studios by avarage profit."
   ]
  },
  {
   "cell_type": "code",
   "execution_count": 148,
   "metadata": {},
   "outputs": [
    {
     "data": {
      "text/html": [
       "<div>\n",
       "<style scoped>\n",
       "    .dataframe tbody tr th:only-of-type {\n",
       "        vertical-align: middle;\n",
       "    }\n",
       "\n",
       "    .dataframe tbody tr th {\n",
       "        vertical-align: top;\n",
       "    }\n",
       "\n",
       "    .dataframe thead th {\n",
       "        text-align: right;\n",
       "    }\n",
       "</style>\n",
       "<table border=\"1\" class=\"dataframe\">\n",
       "  <thead>\n",
       "    <tr style=\"text-align: right;\">\n",
       "      <th></th>\n",
       "      <th>studio</th>\n",
       "      <th>Net profit</th>\n",
       "    </tr>\n",
       "  </thead>\n",
       "  <tbody>\n",
       "    <tr>\n",
       "      <th>95</th>\n",
       "      <td>WB (NL)</td>\n",
       "      <td>16.495934</td>\n",
       "    </tr>\n",
       "    <tr>\n",
       "      <th>89</th>\n",
       "      <td>UTV</td>\n",
       "      <td>11.171985</td>\n",
       "    </tr>\n",
       "    <tr>\n",
       "      <th>29</th>\n",
       "      <td>FD</td>\n",
       "      <td>10.316943</td>\n",
       "    </tr>\n",
       "    <tr>\n",
       "      <th>61</th>\n",
       "      <td>Orch.</td>\n",
       "      <td>8.538213</td>\n",
       "    </tr>\n",
       "    <tr>\n",
       "      <th>38</th>\n",
       "      <td>GrtIndia</td>\n",
       "      <td>7.783430</td>\n",
       "    </tr>\n",
       "  </tbody>\n",
       "</table>\n",
       "</div>"
      ],
      "text/plain": [
       "      studio  Net profit\n",
       "95   WB (NL)   16.495934\n",
       "89       UTV   11.171985\n",
       "29        FD   10.316943\n",
       "61     Orch.    8.538213\n",
       "38  GrtIndia    7.783430"
      ]
     },
     "execution_count": 148,
     "metadata": {},
     "output_type": "execute_result"
    }
   ],
   "source": [
    "profit_by_movie_genre1=movie_merge.groupby(['studio'],  as_index=False)['Net profit'].mean().sort_values(by='Net profit', ascending=False)\n",
    "profit_by_movie_genre1=profit_by_movie_genre1.head(30)\n",
    "profit_by_movie_genre1.head()"
   ]
  },
  {
   "cell_type": "code",
   "execution_count": 151,
   "metadata": {},
   "outputs": [
    {
     "data": {
      "image/png": "[encoded data removed]",
      "text/plain": [
       "<Figure size 1008x504 with 1 Axes>"
      ]
     },
     "metadata": {
      "needs_background": "light"
     },
     "output_type": "display_data"
    }
   ],
   "source": [
    "plt.figure(figsize=(14,7))\n",
    "ax6 = sns.barplot(x=profit_by_movie_genre1['Net profit'], y=profit_by_movie_genre1['studio'])\n",
    "plt.xlabel('Net profit', fontsize=14)\n",
    "plt.ylabel('Studio Name', fontsize=14)\n",
    "plt.title('Average Net profit by Studio', fontsize=16);"
   ]
  },
  {
   "cell_type": "markdown",
   "metadata": {},
   "source": [
    "From the above analysis there is difference between the net profit and  profit.we could see warner Bross havee hihg much net profits compared to the others which is followed by the UTV nd FD. I recommend that Micrososft should follow the best practises employed by the best movies studios."
   ]
  },
  {
   "cell_type": "markdown",
   "metadata": {},
   "source": []
  }
 ],
 "metadata": {
  "interpreter": {
   "hash": "15e1ea0e9ae73a04f4db62dd1e96b3b16ca57ecdaaf21916cbbe9da1fa870ff9"
  },
  "kernelspec": {
   "display_name": "Python 3",
   "language": "python",
   "name": "python3"
  },
  "language_info": {
   "codemirror_mode": {
    "name": "ipython",
    "version": 3
   },
   "file_extension": ".py",
   "mimetype": "text/x-python",
   "name": "python",
   "nbconvert_exporter": "python",
   "pygments_lexer": "ipython3",
   "version": "3.8.5"
  }
 },
 "nbformat": 4,
 "nbformat_minor": 4
}
